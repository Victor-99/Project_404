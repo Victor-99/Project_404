{
 "cells": [
  {
   "cell_type": "code",
   "execution_count": 2,
   "metadata": {},
   "outputs": [],
   "source": [
    "import tensorflow as tf"
   ]
  },
  {
   "cell_type": "code",
   "execution_count": 3,
   "metadata": {},
   "outputs": [
    {
     "name": "stderr",
     "output_type": "stream",
     "text": [
      "Using TensorFlow backend.\n"
     ]
    }
   ],
   "source": [
    "import keras.preprocessing as k_pre"
   ]
  },
  {
   "cell_type": "code",
   "execution_count": 4,
   "metadata": {},
   "outputs": [],
   "source": [
    "import numpy as np\n",
    "import random\n",
    "from sklearn.model_selection import train_test_split as t_split\n",
    "from PIL import Image\n",
    "import pandas as pd\n",
    "import timeit"
   ]
  },
  {
   "cell_type": "code",
   "execution_count": 5,
   "metadata": {},
   "outputs": [],
   "source": [
    "data_dir=r'C:/Users/Victor/Desktop/Project-Safe-Waters-v1-master/IBM Machine Learning/10K_Model_Test/10k/'\n",
    "lab_path=r'C:/Users/Victor/Desktop/Project-Safe-Waters-v1-master/IBM Machine Learning/10K_Model_Test/'"
   ]
  },
  {
   "cell_type": "code",
   "execution_count": 6,
   "metadata": {},
   "outputs": [
    {
     "data": {
      "text/html": [
       "<div>\n",
       "<style scoped>\n",
       "    .dataframe tbody tr th:only-of-type {\n",
       "        vertical-align: middle;\n",
       "    }\n",
       "\n",
       "    .dataframe tbody tr th {\n",
       "        vertical-align: top;\n",
       "    }\n",
       "\n",
       "    .dataframe thead th {\n",
       "        text-align: right;\n",
       "    }\n",
       "</style>\n",
       "<table border=\"1\" class=\"dataframe\">\n",
       "  <thead>\n",
       "    <tr style=\"text-align: right;\">\n",
       "      <th></th>\n",
       "      <th>Labels</th>\n",
       "    </tr>\n",
       "  </thead>\n",
       "  <tbody>\n",
       "    <tr>\n",
       "      <td>0</td>\n",
       "      <td>1.487000</td>\n",
       "    </tr>\n",
       "    <tr>\n",
       "      <td>1</td>\n",
       "      <td>3.471497</td>\n",
       "    </tr>\n",
       "    <tr>\n",
       "      <td>2</td>\n",
       "      <td>1.057709</td>\n",
       "    </tr>\n",
       "    <tr>\n",
       "      <td>3</td>\n",
       "      <td>3.586395</td>\n",
       "    </tr>\n",
       "    <tr>\n",
       "      <td>4</td>\n",
       "      <td>4.017059</td>\n",
       "    </tr>\n",
       "  </tbody>\n",
       "</table>\n",
       "</div>"
      ],
      "text/plain": [
       "     Labels\n",
       "0  1.487000\n",
       "1  3.471497\n",
       "2  1.057709\n",
       "3  3.586395\n",
       "4  4.017059"
      ]
     },
     "execution_count": 6,
     "metadata": {},
     "output_type": "execute_result"
    }
   ],
   "source": [
    "labels=pd.read_csv(lab_path+'labels.csv')\n",
    "labels.head()"
   ]
  },
  {
   "cell_type": "code",
   "execution_count": 7,
   "metadata": {},
   "outputs": [
    {
     "data": {
      "text/plain": [
       "numpy.ndarray"
      ]
     },
     "execution_count": 7,
     "metadata": {},
     "output_type": "execute_result"
    }
   ],
   "source": [
    "lab_data=labels.iloc[:,].values\n",
    "type(lab_data)"
   ]
  },
  {
   "cell_type": "code",
   "execution_count": 8,
   "metadata": {},
   "outputs": [
    {
     "data": {
      "text/plain": [
       "array([1.487])"
      ]
     },
     "execution_count": 8,
     "metadata": {},
     "output_type": "execute_result"
    }
   ],
   "source": [
    "lab_data[0]"
   ]
  },
  {
   "cell_type": "code",
   "execution_count": 9,
   "metadata": {},
   "outputs": [],
   "source": [
    "no_of_images=10000\n",
    "img_h=150\n",
    "img_w=150\n",
    "img=np.zeros((no_of_images,img_h,img_w,3))\n",
    "def load_img(no_of_images,img_h,img_w):\n",
    "    \n",
    "    img_size=(img_h,img_w)\n",
    "    for i in range(no_of_images):\n",
    "        img_got=Image.open(data_dir+'Grab'+str(i)+'.jpg')\n",
    "        img_gotr=img_got.resize(img_size)\n",
    "        img[i]=k_pre.image.img_to_array(img_gotr)\n",
    "    return img"
   ]
  },
  {
   "cell_type": "code",
   "execution_count": 10,
   "metadata": {},
   "outputs": [],
   "source": [
    "#timeit.timeit(stmt=load_img(no_of_images,img_h,img_w))"
   ]
  },
  {
   "cell_type": "code",
   "execution_count": 11,
   "metadata": {},
   "outputs": [
    {
     "data": {
      "text/plain": [
       "array([[[[ 41.,  40.,  38.],\n",
       "         [ 62.,  61.,  59.],\n",
       "         [ 61.,  60.,  58.],\n",
       "         ...,\n",
       "         [ 93.,  90.,  81.],\n",
       "         [ 86.,  84.,  72.],\n",
       "         [ 59.,  55.,  43.]],\n",
       "\n",
       "        [[ 43.,  42.,  40.],\n",
       "         [ 59.,  58.,  56.],\n",
       "         [ 60.,  59.,  57.],\n",
       "         ...,\n",
       "         [116., 113., 104.],\n",
       "         [108., 106.,  94.],\n",
       "         [ 94.,  90.,  78.]],\n",
       "\n",
       "        [[ 45.,  44.,  42.],\n",
       "         [ 57.,  56.,  54.],\n",
       "         [ 59.,  58.,  56.],\n",
       "         ...,\n",
       "         [124., 124., 116.],\n",
       "         [118., 115., 106.],\n",
       "         [107., 105.,  93.]],\n",
       "\n",
       "        ...,\n",
       "\n",
       "        [[ 53.,  48.,  16.],\n",
       "         [ 53.,  48.,  16.],\n",
       "         [ 53.,  48.,  16.],\n",
       "         ...,\n",
       "         [ 57.,  58.,  44.],\n",
       "         [ 57.,  58.,  44.],\n",
       "         [ 56.,  57.,  43.]],\n",
       "\n",
       "        [[ 53.,  48.,  16.],\n",
       "         [ 53.,  48.,  16.],\n",
       "         [ 53.,  48.,  16.],\n",
       "         ...,\n",
       "         [ 57.,  58.,  44.],\n",
       "         [ 57.,  58.,  44.],\n",
       "         [ 57.,  58.,  44.]],\n",
       "\n",
       "        [[ 53.,  48.,  16.],\n",
       "         [ 53.,  48.,  16.],\n",
       "         [ 53.,  48.,  16.],\n",
       "         ...,\n",
       "         [ 58.,  59.,  45.],\n",
       "         [ 58.,  59.,  45.],\n",
       "         [ 60.,  61.,  47.]]],\n",
       "\n",
       "\n",
       "       [[[ 69.,  70.,  62.],\n",
       "         [ 69.,  70.,  62.],\n",
       "         [ 70.,  71.,  65.],\n",
       "         ...,\n",
       "         [ 40.,  39.,   9.],\n",
       "         [ 33.,  32.,   4.],\n",
       "         [ 67.,  66.,  38.]],\n",
       "\n",
       "        [[ 15.,  16.,   8.],\n",
       "         [ 11.,  12.,   4.],\n",
       "         [  8.,   9.,   3.],\n",
       "         ...,\n",
       "         [ 48.,  47.,  17.],\n",
       "         [ 41.,  40.,  10.],\n",
       "         [ 45.,  44.,  16.]],\n",
       "\n",
       "        [[ 11.,  12.,   4.],\n",
       "         [ 11.,  12.,   4.],\n",
       "         [ 11.,  12.,   6.],\n",
       "         ...,\n",
       "         [ 52.,  51.,  21.],\n",
       "         [ 51.,  50.,  20.],\n",
       "         [ 45.,  44.,  16.]],\n",
       "\n",
       "        ...,\n",
       "\n",
       "        [[ 77.,  77.,  69.],\n",
       "         [ 76.,  76.,  68.],\n",
       "         [ 76.,  76.,  68.],\n",
       "         ...,\n",
       "         [ 51.,  49.,  24.],\n",
       "         [ 51.,  49.,  24.],\n",
       "         [ 51.,  49.,  24.]],\n",
       "\n",
       "        [[ 76.,  76.,  68.],\n",
       "         [ 75.,  75.,  67.],\n",
       "         [ 75.,  75.,  67.],\n",
       "         ...,\n",
       "         [ 51.,  49.,  24.],\n",
       "         [ 51.,  49.,  24.],\n",
       "         [ 51.,  49.,  24.]],\n",
       "\n",
       "        [[ 75.,  75.,  67.],\n",
       "         [ 74.,  74.,  66.],\n",
       "         [ 74.,  74.,  66.],\n",
       "         ...,\n",
       "         [ 51.,  49.,  24.],\n",
       "         [ 51.,  49.,  24.],\n",
       "         [ 51.,  49.,  24.]]],\n",
       "\n",
       "\n",
       "       [[[ 32.,  39.,  31.],\n",
       "         [ 32.,  39.,  31.],\n",
       "         [ 32.,  37.,  30.],\n",
       "         ...,\n",
       "         [  3.,   2.,   0.],\n",
       "         [ 18.,  17.,  12.],\n",
       "         [ 28.,  27.,  22.]],\n",
       "\n",
       "        [[ 33.,  40.,  32.],\n",
       "         [ 40.,  47.,  39.],\n",
       "         [ 38.,  43.,  36.],\n",
       "         ...,\n",
       "         [ 24.,  23.,  18.],\n",
       "         [ 28.,  27.,  22.],\n",
       "         [ 24.,  23.,  18.]],\n",
       "\n",
       "        [[ 33.,  40.,  32.],\n",
       "         [ 44.,  51.,  43.],\n",
       "         [ 42.,  47.,  40.],\n",
       "         ...,\n",
       "         [ 23.,  22.,  17.],\n",
       "         [ 28.,  27.,  22.],\n",
       "         [ 30.,  29.,  24.]],\n",
       "\n",
       "        ...,\n",
       "\n",
       "        [[ 62.,  61.,  40.],\n",
       "         [ 65.,  64.,  43.],\n",
       "         [ 63.,  62.,  41.],\n",
       "         ...,\n",
       "         [ 59.,  57.,  42.],\n",
       "         [ 59.,  57.,  42.],\n",
       "         [ 58.,  56.,  41.]],\n",
       "\n",
       "        [[ 63.,  62.,  41.],\n",
       "         [ 64.,  63.,  42.],\n",
       "         [ 62.,  61.,  40.],\n",
       "         ...,\n",
       "         [ 60.,  58.,  43.],\n",
       "         [ 60.,  58.,  43.],\n",
       "         [ 59.,  57.,  42.]],\n",
       "\n",
       "        [[ 61.,  60.,  39.],\n",
       "         [ 62.,  61.,  40.],\n",
       "         [ 60.,  59.,  38.],\n",
       "         ...,\n",
       "         [ 59.,  57.,  42.],\n",
       "         [ 59.,  57.,  42.],\n",
       "         [ 58.,  56.,  41.]]],\n",
       "\n",
       "\n",
       "       ...,\n",
       "\n",
       "\n",
       "       [[[104., 113., 110.],\n",
       "         [100., 109., 104.],\n",
       "         [ 72.,  78.,  74.],\n",
       "         ...,\n",
       "         [ 56.,  57.,  51.],\n",
       "         [ 58.,  59.,  53.],\n",
       "         [ 59.,  60.,  54.]],\n",
       "\n",
       "        [[ 71.,  80.,  77.],\n",
       "         [125., 134., 131.],\n",
       "         [128., 134., 130.],\n",
       "         ...,\n",
       "         [  2.,   3.,   0.],\n",
       "         [  0.,   1.,   0.],\n",
       "         [ 47.,  48.,  43.]],\n",
       "\n",
       "        [[ 31.,  40.,  37.],\n",
       "         [116., 125., 122.],\n",
       "         [119., 125., 121.],\n",
       "         ...,\n",
       "         [ 33.,  34.,  29.],\n",
       "         [ 26.,  27.,  22.],\n",
       "         [ 59.,  60.,  55.]],\n",
       "\n",
       "        ...,\n",
       "\n",
       "        [[ 52.,  51.,  31.],\n",
       "         [ 53.,  52.,  32.],\n",
       "         [ 54.,  53.,  33.],\n",
       "         ...,\n",
       "         [ 53.,  48.,  16.],\n",
       "         [ 54.,  49.,  17.],\n",
       "         [ 55.,  50.,  18.]],\n",
       "\n",
       "        [[ 53.,  52.,  32.],\n",
       "         [ 53.,  52.,  32.],\n",
       "         [ 54.,  53.,  33.],\n",
       "         ...,\n",
       "         [ 53.,  48.,  16.],\n",
       "         [ 54.,  49.,  17.],\n",
       "         [ 56.,  51.,  19.]],\n",
       "\n",
       "        [[ 55.,  54.,  34.],\n",
       "         [ 54.,  53.,  33.],\n",
       "         [ 54.,  53.,  33.],\n",
       "         ...,\n",
       "         [ 54.,  49.,  17.],\n",
       "         [ 55.,  50.,  18.],\n",
       "         [ 57.,  52.,  20.]]],\n",
       "\n",
       "\n",
       "       [[[ 60.,  60.,  52.],\n",
       "         [ 53.,  53.,  45.],\n",
       "         [ 92.,  92.,  84.],\n",
       "         ...,\n",
       "         [ 62.,  62.,  28.],\n",
       "         [ 65.,  64.,  34.],\n",
       "         [ 30.,  28.,   3.]],\n",
       "\n",
       "        [[103., 103.,  95.],\n",
       "         [ 57.,  57.,  49.],\n",
       "         [ 59.,  59.,  51.],\n",
       "         ...,\n",
       "         [ 68.,  67.,  36.],\n",
       "         [ 48.,  47.,  17.],\n",
       "         [ 40.,  39.,  11.]],\n",
       "\n",
       "        [[ 94.,  94.,  86.],\n",
       "         [ 56.,  56.,  48.],\n",
       "         [ 51.,  51.,  43.],\n",
       "         ...,\n",
       "         [ 75.,  74.,  43.],\n",
       "         [ 51.,  50.,  20.],\n",
       "         [ 44.,  43.,  15.]],\n",
       "\n",
       "        ...,\n",
       "\n",
       "        [[ 51.,  49.,  24.],\n",
       "         [ 51.,  49.,  24.],\n",
       "         [ 51.,  49.,  24.],\n",
       "         ...,\n",
       "         [ 53.,  48.,  16.],\n",
       "         [ 53.,  48.,  16.],\n",
       "         [ 53.,  48.,  16.]],\n",
       "\n",
       "        [[ 51.,  49.,  24.],\n",
       "         [ 51.,  49.,  24.],\n",
       "         [ 51.,  49.,  24.],\n",
       "         ...,\n",
       "         [ 53.,  48.,  16.],\n",
       "         [ 53.,  48.,  16.],\n",
       "         [ 53.,  48.,  16.]],\n",
       "\n",
       "        [[ 51.,  49.,  24.],\n",
       "         [ 51.,  49.,  24.],\n",
       "         [ 51.,  49.,  24.],\n",
       "         ...,\n",
       "         [ 53.,  48.,  16.],\n",
       "         [ 53.,  48.,  16.],\n",
       "         [ 53.,  48.,  16.]]],\n",
       "\n",
       "\n",
       "       [[[ 69.,  64.,  60.],\n",
       "         [ 96.,  91.,  85.],\n",
       "         [ 94.,  90.,  81.],\n",
       "         ...,\n",
       "         [ 54.,  51.,  46.],\n",
       "         [ 58.,  55.,  50.],\n",
       "         [ 87.,  84.,  79.]],\n",
       "\n",
       "        [[ 65.,  60.,  56.],\n",
       "         [ 91.,  86.,  80.],\n",
       "         [ 88.,  84.,  75.],\n",
       "         ...,\n",
       "         [ 55.,  52.,  47.],\n",
       "         [ 62.,  59.,  54.],\n",
       "         [ 89.,  86.,  81.]],\n",
       "\n",
       "        [[ 64.,  59.,  55.],\n",
       "         [ 93.,  88.,  82.],\n",
       "         [ 90.,  86.,  77.],\n",
       "         ...,\n",
       "         [ 56.,  53.,  48.],\n",
       "         [ 66.,  63.,  58.],\n",
       "         [ 89.,  86.,  81.]],\n",
       "\n",
       "        ...,\n",
       "\n",
       "        [[ 54.,  50.,  15.],\n",
       "         [ 54.,  50.,  15.],\n",
       "         [ 54.,  49.,  17.],\n",
       "         ...,\n",
       "         [ 59.,  54.,  25.],\n",
       "         [ 59.,  53.,  27.],\n",
       "         [ 60.,  54.,  28.]],\n",
       "\n",
       "        [[ 54.,  50.,  15.],\n",
       "         [ 54.,  50.,  15.],\n",
       "         [ 54.,  50.,  15.],\n",
       "         ...,\n",
       "         [ 58.,  53.,  24.],\n",
       "         [ 59.,  53.,  27.],\n",
       "         [ 61.,  55.,  29.]],\n",
       "\n",
       "        [[ 54.,  50.,  13.],\n",
       "         [ 54.,  50.,  13.],\n",
       "         [ 54.,  50.,  15.],\n",
       "         ...,\n",
       "         [ 57.,  52.,  23.],\n",
       "         [ 56.,  50.,  24.],\n",
       "         [ 56.,  50.,  24.]]]])"
      ]
     },
     "execution_count": 11,
     "metadata": {},
     "output_type": "execute_result"
    }
   ],
   "source": [
    "load_img(no_of_images,img_h,img_w)"
   ]
  },
  {
   "cell_type": "code",
   "execution_count": 12,
   "metadata": {},
   "outputs": [
    {
     "data": {
      "text/plain": [
       "array([[[ 41.,  40.,  38.],\n",
       "        [ 62.,  61.,  59.],\n",
       "        [ 61.,  60.,  58.],\n",
       "        ...,\n",
       "        [ 93.,  90.,  81.],\n",
       "        [ 86.,  84.,  72.],\n",
       "        [ 59.,  55.,  43.]],\n",
       "\n",
       "       [[ 43.,  42.,  40.],\n",
       "        [ 59.,  58.,  56.],\n",
       "        [ 60.,  59.,  57.],\n",
       "        ...,\n",
       "        [116., 113., 104.],\n",
       "        [108., 106.,  94.],\n",
       "        [ 94.,  90.,  78.]],\n",
       "\n",
       "       [[ 45.,  44.,  42.],\n",
       "        [ 57.,  56.,  54.],\n",
       "        [ 59.,  58.,  56.],\n",
       "        ...,\n",
       "        [124., 124., 116.],\n",
       "        [118., 115., 106.],\n",
       "        [107., 105.,  93.]],\n",
       "\n",
       "       ...,\n",
       "\n",
       "       [[ 53.,  48.,  16.],\n",
       "        [ 53.,  48.,  16.],\n",
       "        [ 53.,  48.,  16.],\n",
       "        ...,\n",
       "        [ 57.,  58.,  44.],\n",
       "        [ 57.,  58.,  44.],\n",
       "        [ 56.,  57.,  43.]],\n",
       "\n",
       "       [[ 53.,  48.,  16.],\n",
       "        [ 53.,  48.,  16.],\n",
       "        [ 53.,  48.,  16.],\n",
       "        ...,\n",
       "        [ 57.,  58.,  44.],\n",
       "        [ 57.,  58.,  44.],\n",
       "        [ 57.,  58.,  44.]],\n",
       "\n",
       "       [[ 53.,  48.,  16.],\n",
       "        [ 53.,  48.,  16.],\n",
       "        [ 53.,  48.,  16.],\n",
       "        ...,\n",
       "        [ 58.,  59.,  45.],\n",
       "        [ 58.,  59.,  45.],\n",
       "        [ 60.,  61.,  47.]]])"
      ]
     },
     "execution_count": 12,
     "metadata": {},
     "output_type": "execute_result"
    }
   ],
   "source": [
    "img[0]"
   ]
  },
  {
   "cell_type": "code",
   "execution_count": 13,
   "metadata": {},
   "outputs": [],
   "source": [
    "x_train,x_test,y_train,y_test=t_split(img,lab_data,shuffle=True,test_size=0.2)"
   ]
  },
  {
   "cell_type": "code",
   "execution_count": 14,
   "metadata": {},
   "outputs": [
    {
     "data": {
      "text/plain": [
       "(8000, 150, 150, 3)"
      ]
     },
     "execution_count": 14,
     "metadata": {},
     "output_type": "execute_result"
    }
   ],
   "source": [
    "x_train.shape"
   ]
  },
  {
   "cell_type": "code",
   "execution_count": 15,
   "metadata": {},
   "outputs": [],
   "source": [
    "x_train_norm=x_train/255\n",
    "x_test_norm=x_test/255"
   ]
  },
  {
   "cell_type": "code",
   "execution_count": 16,
   "metadata": {},
   "outputs": [],
   "source": [
    "x_train_norm=tf.convert_to_tensor(x_train_norm)\n",
    "x_test_norm=tf.convert_to_tensor(x_test_norm)"
   ]
  },
  {
   "cell_type": "code",
   "execution_count": 26,
   "metadata": {},
   "outputs": [],
   "source": [
    "def model():\n",
    "    built=tf.keras.models.Sequential([\n",
    "        tf.keras.layers.Conv2D(32,(3,3),activation='relu',input_shape=(150,150,3)),\n",
    "        tf.keras.layers.MaxPool2D(),\n",
    "        tf.keras.layers.Conv2D(64,(3,3),activation='relu'),\n",
    "        tf.keras.layers.MaxPool2D(),\n",
    "        tf.keras.layers.Conv2D(64,(3,3),activation='relu')\n",
    "    ])\n",
    "    built.compile(optimizer='adam',loss='sparse_categorical_crossentropy',metrics=['accuracy','sparse_categorical_crossentropy'])\n",
    "    return built"
   ]
  },
  {
   "cell_type": "code",
   "execution_count": 18,
   "metadata": {},
   "outputs": [],
   "source": [
    "model_built=model()"
   ]
  },
  {
   "cell_type": "code",
   "execution_count": 19,
   "metadata": {},
   "outputs": [],
   "source": [
    "model_built.add(tf.keras.layers.Flatten())\n",
    "model_built.add(tf.keras.layers.Dense(64,activation='relu'))\n",
    "model_built.add(tf.keras.layers.Dense(10,activation='softmax'))"
   ]
  },
  {
   "cell_type": "code",
   "execution_count": 21,
   "metadata": {},
   "outputs": [],
   "source": [
    "Callbacks=tf.keras.callbacks.ModelCheckpoint(r'C:/Users/Victor/Desktop/Project_404/')"
   ]
  },
  {
   "cell_type": "code",
   "execution_count": 25,
   "metadata": {},
   "outputs": [
    {
     "ename": "ValueError",
     "evalue": "Error when checking input: expected conv2d_input to have shape (28, 28, 1) but got array with shape (150, 150, 3)",
     "output_type": "error",
     "traceback": [
      "\u001b[1;31m---------------------------------------------------------------------------\u001b[0m",
      "\u001b[1;31mValueError\u001b[0m                                Traceback (most recent call last)",
      "\u001b[1;32m<ipython-input-25-3a32b140cd74>\u001b[0m in \u001b[0;36m<module>\u001b[1;34m\u001b[0m\n\u001b[1;32m----> 1\u001b[1;33m \u001b[0mmodel_built\u001b[0m\u001b[1;33m.\u001b[0m\u001b[0mfit\u001b[0m\u001b[1;33m(\u001b[0m\u001b[0mx_train_norm\u001b[0m\u001b[1;33m,\u001b[0m\u001b[0my_train\u001b[0m\u001b[1;33m,\u001b[0m\u001b[0mepochs\u001b[0m\u001b[1;33m=\u001b[0m\u001b[1;36m5\u001b[0m\u001b[1;33m,\u001b[0m\u001b[0mvalidation_split\u001b[0m\u001b[1;33m=\u001b[0m\u001b[1;36m0.2\u001b[0m\u001b[1;33m,\u001b[0m\u001b[0mverbose\u001b[0m\u001b[1;33m=\u001b[0m\u001b[1;36m1\u001b[0m\u001b[1;33m,\u001b[0m\u001b[0mbatch_size\u001b[0m\u001b[1;33m=\u001b[0m\u001b[1;36m32\u001b[0m\u001b[1;33m)\u001b[0m\u001b[1;33m\u001b[0m\u001b[1;33m\u001b[0m\u001b[0m\n\u001b[0m",
      "\u001b[1;32m~\\Anaconda3\\lib\\site-packages\\tensorflow_core\\python\\keras\\engine\\training.py\u001b[0m in \u001b[0;36mfit\u001b[1;34m(self, x, y, batch_size, epochs, verbose, callbacks, validation_split, validation_data, shuffle, class_weight, sample_weight, initial_epoch, steps_per_epoch, validation_steps, validation_freq, max_queue_size, workers, use_multiprocessing, **kwargs)\u001b[0m\n\u001b[0;32m    726\u001b[0m         \u001b[0mmax_queue_size\u001b[0m\u001b[1;33m=\u001b[0m\u001b[0mmax_queue_size\u001b[0m\u001b[1;33m,\u001b[0m\u001b[1;33m\u001b[0m\u001b[1;33m\u001b[0m\u001b[0m\n\u001b[0;32m    727\u001b[0m         \u001b[0mworkers\u001b[0m\u001b[1;33m=\u001b[0m\u001b[0mworkers\u001b[0m\u001b[1;33m,\u001b[0m\u001b[1;33m\u001b[0m\u001b[1;33m\u001b[0m\u001b[0m\n\u001b[1;32m--> 728\u001b[1;33m         use_multiprocessing=use_multiprocessing)\n\u001b[0m\u001b[0;32m    729\u001b[0m \u001b[1;33m\u001b[0m\u001b[0m\n\u001b[0;32m    730\u001b[0m   def evaluate(self,\n",
      "\u001b[1;32m~\\Anaconda3\\lib\\site-packages\\tensorflow_core\\python\\keras\\engine\\training_v2.py\u001b[0m in \u001b[0;36mfit\u001b[1;34m(self, model, x, y, batch_size, epochs, verbose, callbacks, validation_split, validation_data, shuffle, class_weight, sample_weight, initial_epoch, steps_per_epoch, validation_steps, validation_freq, **kwargs)\u001b[0m\n\u001b[0;32m    222\u001b[0m           \u001b[0mvalidation_data\u001b[0m\u001b[1;33m=\u001b[0m\u001b[0mvalidation_data\u001b[0m\u001b[1;33m,\u001b[0m\u001b[1;33m\u001b[0m\u001b[1;33m\u001b[0m\u001b[0m\n\u001b[0;32m    223\u001b[0m           \u001b[0mvalidation_steps\u001b[0m\u001b[1;33m=\u001b[0m\u001b[0mvalidation_steps\u001b[0m\u001b[1;33m,\u001b[0m\u001b[1;33m\u001b[0m\u001b[1;33m\u001b[0m\u001b[0m\n\u001b[1;32m--> 224\u001b[1;33m           distribution_strategy=strategy)\n\u001b[0m\u001b[0;32m    225\u001b[0m \u001b[1;33m\u001b[0m\u001b[0m\n\u001b[0;32m    226\u001b[0m       \u001b[0mtotal_samples\u001b[0m \u001b[1;33m=\u001b[0m \u001b[0m_get_total_number_of_samples\u001b[0m\u001b[1;33m(\u001b[0m\u001b[0mtraining_data_adapter\u001b[0m\u001b[1;33m)\u001b[0m\u001b[1;33m\u001b[0m\u001b[1;33m\u001b[0m\u001b[0m\n",
      "\u001b[1;32m~\\Anaconda3\\lib\\site-packages\\tensorflow_core\\python\\keras\\engine\\training_v2.py\u001b[0m in \u001b[0;36m_process_training_inputs\u001b[1;34m(model, x, y, batch_size, epochs, sample_weights, class_weights, steps_per_epoch, validation_split, validation_data, validation_steps, shuffle, distribution_strategy, max_queue_size, workers, use_multiprocessing)\u001b[0m\n\u001b[0;32m    514\u001b[0m         \u001b[0mbatch_size\u001b[0m\u001b[1;33m=\u001b[0m\u001b[0mbatch_size\u001b[0m\u001b[1;33m,\u001b[0m\u001b[1;33m\u001b[0m\u001b[1;33m\u001b[0m\u001b[0m\n\u001b[0;32m    515\u001b[0m         \u001b[0mcheck_steps\u001b[0m\u001b[1;33m=\u001b[0m\u001b[1;32mFalse\u001b[0m\u001b[1;33m,\u001b[0m\u001b[1;33m\u001b[0m\u001b[1;33m\u001b[0m\u001b[0m\n\u001b[1;32m--> 516\u001b[1;33m         steps=steps_per_epoch)\n\u001b[0m\u001b[0;32m    517\u001b[0m     (x, y, sample_weights,\n\u001b[0;32m    518\u001b[0m      \u001b[0mval_x\u001b[0m\u001b[1;33m,\u001b[0m \u001b[0mval_y\u001b[0m\u001b[1;33m,\u001b[0m\u001b[1;33m\u001b[0m\u001b[1;33m\u001b[0m\u001b[0m\n",
      "\u001b[1;32m~\\Anaconda3\\lib\\site-packages\\tensorflow_core\\python\\keras\\engine\\training.py\u001b[0m in \u001b[0;36m_standardize_user_data\u001b[1;34m(self, x, y, sample_weight, class_weight, batch_size, check_steps, steps_name, steps, validation_split, shuffle, extract_tensors_from_dataset)\u001b[0m\n\u001b[0;32m   2470\u001b[0m           \u001b[0mfeed_input_shapes\u001b[0m\u001b[1;33m,\u001b[0m\u001b[1;33m\u001b[0m\u001b[1;33m\u001b[0m\u001b[0m\n\u001b[0;32m   2471\u001b[0m           \u001b[0mcheck_batch_axis\u001b[0m\u001b[1;33m=\u001b[0m\u001b[1;32mFalse\u001b[0m\u001b[1;33m,\u001b[0m  \u001b[1;31m# Don't enforce the batch size.\u001b[0m\u001b[1;33m\u001b[0m\u001b[1;33m\u001b[0m\u001b[0m\n\u001b[1;32m-> 2472\u001b[1;33m           exception_prefix='input')\n\u001b[0m\u001b[0;32m   2473\u001b[0m \u001b[1;33m\u001b[0m\u001b[0m\n\u001b[0;32m   2474\u001b[0m     \u001b[1;31m# Get typespecs for the input data and sanitize it if necessary.\u001b[0m\u001b[1;33m\u001b[0m\u001b[1;33m\u001b[0m\u001b[1;33m\u001b[0m\u001b[0m\n",
      "\u001b[1;32m~\\Anaconda3\\lib\\site-packages\\tensorflow_core\\python\\keras\\engine\\training_utils.py\u001b[0m in \u001b[0;36mstandardize_input_data\u001b[1;34m(data, names, shapes, check_batch_axis, exception_prefix)\u001b[0m\n\u001b[0;32m    572\u001b[0m                              \u001b[1;34m': expected '\u001b[0m \u001b[1;33m+\u001b[0m \u001b[0mnames\u001b[0m\u001b[1;33m[\u001b[0m\u001b[0mi\u001b[0m\u001b[1;33m]\u001b[0m \u001b[1;33m+\u001b[0m \u001b[1;34m' to have shape '\u001b[0m \u001b[1;33m+\u001b[0m\u001b[1;33m\u001b[0m\u001b[1;33m\u001b[0m\u001b[0m\n\u001b[0;32m    573\u001b[0m                              \u001b[0mstr\u001b[0m\u001b[1;33m(\u001b[0m\u001b[0mshape\u001b[0m\u001b[1;33m)\u001b[0m \u001b[1;33m+\u001b[0m \u001b[1;34m' but got array with shape '\u001b[0m \u001b[1;33m+\u001b[0m\u001b[1;33m\u001b[0m\u001b[1;33m\u001b[0m\u001b[0m\n\u001b[1;32m--> 574\u001b[1;33m                              str(data_shape))\n\u001b[0m\u001b[0;32m    575\u001b[0m   \u001b[1;32mreturn\u001b[0m \u001b[0mdata\u001b[0m\u001b[1;33m\u001b[0m\u001b[1;33m\u001b[0m\u001b[0m\n\u001b[0;32m    576\u001b[0m \u001b[1;33m\u001b[0m\u001b[0m\n",
      "\u001b[1;31mValueError\u001b[0m: Error when checking input: expected conv2d_input to have shape (28, 28, 1) but got array with shape (150, 150, 3)"
     ]
    }
   ],
   "source": [
    "model_built.fit(x_train_norm,y_train,epochs=5,validation_split=0.2,verbose=1,batch_size=32)"
   ]
  },
  {
   "cell_type": "code",
   "execution_count": null,
   "metadata": {},
   "outputs": [],
   "source": []
  }
 ],
 "metadata": {
  "kernelspec": {
   "display_name": "Python 3",
   "language": "python",
   "name": "python3"
  },
  "language_info": {
   "codemirror_mode": {
    "name": "ipython",
    "version": 3
   },
   "file_extension": ".py",
   "mimetype": "text/x-python",
   "name": "python",
   "nbconvert_exporter": "python",
   "pygments_lexer": "ipython3",
   "version": "3.7.5"
  }
 },
 "nbformat": 4,
 "nbformat_minor": 2
}

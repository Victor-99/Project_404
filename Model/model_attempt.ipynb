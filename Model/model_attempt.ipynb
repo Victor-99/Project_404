{
 "cells": [
  {
   "cell_type": "code",
   "execution_count": 2,
   "metadata": {},
   "outputs": [],
   "source": [
    "import tensorflow as tf"
   ]
  },
  {
   "cell_type": "code",
   "execution_count": 27,
   "metadata": {},
   "outputs": [],
   "source": [
    "import keras.preprocessing as k_pre\n",
    "import keras"
   ]
  },
  {
   "cell_type": "code",
   "execution_count": 4,
   "metadata": {},
   "outputs": [],
   "source": [
    "import numpy as np\n",
    "import random\n",
    "from sklearn.model_selection import train_test_split as t_split\n",
    "from PIL import Image\n",
    "import pandas as pd\n",
    "import timeit"
   ]
  },
  {
   "cell_type": "code",
   "execution_count": 5,
   "metadata": {},
   "outputs": [],
   "source": [
    "data_dir=r'./10K_Model_Test/10k/'\n",
    "lab_path=r'./10K_Model_Test/'"
   ]
  },
  {
   "cell_type": "code",
   "execution_count": 6,
   "metadata": {},
   "outputs": [
    {
     "data": {
      "text/html": [
       "<div>\n",
       "<style scoped>\n",
       "    .dataframe tbody tr th:only-of-type {\n",
       "        vertical-align: middle;\n",
       "    }\n",
       "\n",
       "    .dataframe tbody tr th {\n",
       "        vertical-align: top;\n",
       "    }\n",
       "\n",
       "    .dataframe thead th {\n",
       "        text-align: right;\n",
       "    }\n",
       "</style>\n",
       "<table border=\"1\" class=\"dataframe\">\n",
       "  <thead>\n",
       "    <tr style=\"text-align: right;\">\n",
       "      <th></th>\n",
       "      <th>Labels</th>\n",
       "    </tr>\n",
       "  </thead>\n",
       "  <tbody>\n",
       "    <tr>\n",
       "      <td>0</td>\n",
       "      <td>1.487000</td>\n",
       "    </tr>\n",
       "    <tr>\n",
       "      <td>1</td>\n",
       "      <td>3.471497</td>\n",
       "    </tr>\n",
       "    <tr>\n",
       "      <td>2</td>\n",
       "      <td>1.057709</td>\n",
       "    </tr>\n",
       "    <tr>\n",
       "      <td>3</td>\n",
       "      <td>3.586395</td>\n",
       "    </tr>\n",
       "    <tr>\n",
       "      <td>4</td>\n",
       "      <td>4.017059</td>\n",
       "    </tr>\n",
       "  </tbody>\n",
       "</table>\n",
       "</div>"
      ],
      "text/plain": [
       "     Labels\n",
       "0  1.487000\n",
       "1  3.471497\n",
       "2  1.057709\n",
       "3  3.586395\n",
       "4  4.017059"
      ]
     },
     "execution_count": 6,
     "metadata": {},
     "output_type": "execute_result"
    }
   ],
   "source": [
    "labels=pd.read_csv(lab_path+'labels.csv')\n",
    "labels.head()"
   ]
  },
  {
   "cell_type": "code",
   "execution_count": 7,
   "metadata": {},
   "outputs": [
    {
     "data": {
      "text/plain": [
       "numpy.ndarray"
      ]
     },
     "execution_count": 7,
     "metadata": {},
     "output_type": "execute_result"
    }
   ],
   "source": [
    "lab_data=labels.iloc[:,].values\n",
    "type(lab_data)"
   ]
  },
  {
   "cell_type": "code",
   "execution_count": 8,
   "metadata": {},
   "outputs": [
    {
     "data": {
      "text/plain": [
       "array([1.487])"
      ]
     },
     "execution_count": 8,
     "metadata": {},
     "output_type": "execute_result"
    }
   ],
   "source": [
    "lab_data[0]"
   ]
  },
  {
   "cell_type": "code",
   "execution_count": 9,
   "metadata": {},
   "outputs": [],
   "source": [
    "no_of_images=10000\n",
    "img_h=150\n",
    "img_w=150\n",
    "img=np.zeros((no_of_images,img_h,img_w,3))\n",
    "def load_img(no_of_images,img_h,img_w):\n",
    "    \n",
    "    img_size=(img_h,img_w)\n",
    "    for i in range(no_of_images):\n",
    "        img_got=Image.open(data_dir+'Grab'+str(i)+'.jpg')\n",
    "        img_gotr=img_got.resize(img_size)\n",
    "        img[i]=k_pre.image.img_to_array(img_gotr)\n",
    "    return img"
   ]
  },
  {
   "cell_type": "code",
   "execution_count": 10,
   "metadata": {},
   "outputs": [],
   "source": [
    "#timeit.timeit(stmt=load_img(no_of_images,img_h,img_w))"
   ]
  },
  {
   "cell_type": "code",
   "execution_count": 11,
   "metadata": {},
   "outputs": [
    {
     "data": {
      "text/plain": [
       "array([[[[ 41.,  40.,  38.],\n",
       "         [ 62.,  61.,  59.],\n",
       "         [ 61.,  60.,  58.],\n",
       "         ...,\n",
       "         [ 93.,  90.,  81.],\n",
       "         [ 86.,  84.,  72.],\n",
       "         [ 59.,  55.,  43.]],\n",
       "\n",
       "        [[ 43.,  42.,  40.],\n",
       "         [ 59.,  58.,  56.],\n",
       "         [ 60.,  59.,  57.],\n",
       "         ...,\n",
       "         [116., 113., 104.],\n",
       "         [108., 106.,  94.],\n",
       "         [ 94.,  90.,  78.]],\n",
       "\n",
       "        [[ 45.,  44.,  42.],\n",
       "         [ 57.,  56.,  54.],\n",
       "         [ 59.,  58.,  56.],\n",
       "         ...,\n",
       "         [124., 124., 116.],\n",
       "         [118., 115., 106.],\n",
       "         [107., 105.,  93.]],\n",
       "\n",
       "        ...,\n",
       "\n",
       "        [[ 53.,  48.,  16.],\n",
       "         [ 53.,  48.,  16.],\n",
       "         [ 53.,  48.,  16.],\n",
       "         ...,\n",
       "         [ 57.,  58.,  44.],\n",
       "         [ 57.,  58.,  44.],\n",
       "         [ 56.,  57.,  43.]],\n",
       "\n",
       "        [[ 53.,  48.,  16.],\n",
       "         [ 53.,  48.,  16.],\n",
       "         [ 53.,  48.,  16.],\n",
       "         ...,\n",
       "         [ 57.,  58.,  44.],\n",
       "         [ 57.,  58.,  44.],\n",
       "         [ 57.,  58.,  44.]],\n",
       "\n",
       "        [[ 53.,  48.,  16.],\n",
       "         [ 53.,  48.,  16.],\n",
       "         [ 53.,  48.,  16.],\n",
       "         ...,\n",
       "         [ 58.,  59.,  45.],\n",
       "         [ 58.,  59.,  45.],\n",
       "         [ 60.,  61.,  47.]]],\n",
       "\n",
       "\n",
       "       [[[ 69.,  70.,  62.],\n",
       "         [ 69.,  70.,  62.],\n",
       "         [ 70.,  71.,  65.],\n",
       "         ...,\n",
       "         [ 40.,  39.,   9.],\n",
       "         [ 33.,  32.,   4.],\n",
       "         [ 67.,  66.,  38.]],\n",
       "\n",
       "        [[ 15.,  16.,   8.],\n",
       "         [ 11.,  12.,   4.],\n",
       "         [  8.,   9.,   3.],\n",
       "         ...,\n",
       "         [ 48.,  47.,  17.],\n",
       "         [ 41.,  40.,  10.],\n",
       "         [ 45.,  44.,  16.]],\n",
       "\n",
       "        [[ 11.,  12.,   4.],\n",
       "         [ 11.,  12.,   4.],\n",
       "         [ 11.,  12.,   6.],\n",
       "         ...,\n",
       "         [ 52.,  51.,  21.],\n",
       "         [ 51.,  50.,  20.],\n",
       "         [ 45.,  44.,  16.]],\n",
       "\n",
       "        ...,\n",
       "\n",
       "        [[ 77.,  77.,  69.],\n",
       "         [ 76.,  76.,  68.],\n",
       "         [ 76.,  76.,  68.],\n",
       "         ...,\n",
       "         [ 51.,  49.,  24.],\n",
       "         [ 51.,  49.,  24.],\n",
       "         [ 51.,  49.,  24.]],\n",
       "\n",
       "        [[ 76.,  76.,  68.],\n",
       "         [ 75.,  75.,  67.],\n",
       "         [ 75.,  75.,  67.],\n",
       "         ...,\n",
       "         [ 51.,  49.,  24.],\n",
       "         [ 51.,  49.,  24.],\n",
       "         [ 51.,  49.,  24.]],\n",
       "\n",
       "        [[ 75.,  75.,  67.],\n",
       "         [ 74.,  74.,  66.],\n",
       "         [ 74.,  74.,  66.],\n",
       "         ...,\n",
       "         [ 51.,  49.,  24.],\n",
       "         [ 51.,  49.,  24.],\n",
       "         [ 51.,  49.,  24.]]],\n",
       "\n",
       "\n",
       "       [[[ 32.,  39.,  31.],\n",
       "         [ 32.,  39.,  31.],\n",
       "         [ 32.,  37.,  30.],\n",
       "         ...,\n",
       "         [  3.,   2.,   0.],\n",
       "         [ 18.,  17.,  12.],\n",
       "         [ 28.,  27.,  22.]],\n",
       "\n",
       "        [[ 33.,  40.,  32.],\n",
       "         [ 40.,  47.,  39.],\n",
       "         [ 38.,  43.,  36.],\n",
       "         ...,\n",
       "         [ 24.,  23.,  18.],\n",
       "         [ 28.,  27.,  22.],\n",
       "         [ 24.,  23.,  18.]],\n",
       "\n",
       "        [[ 33.,  40.,  32.],\n",
       "         [ 44.,  51.,  43.],\n",
       "         [ 42.,  47.,  40.],\n",
       "         ...,\n",
       "         [ 23.,  22.,  17.],\n",
       "         [ 28.,  27.,  22.],\n",
       "         [ 30.,  29.,  24.]],\n",
       "\n",
       "        ...,\n",
       "\n",
       "        [[ 62.,  61.,  40.],\n",
       "         [ 65.,  64.,  43.],\n",
       "         [ 63.,  62.,  41.],\n",
       "         ...,\n",
       "         [ 59.,  57.,  42.],\n",
       "         [ 59.,  57.,  42.],\n",
       "         [ 58.,  56.,  41.]],\n",
       "\n",
       "        [[ 63.,  62.,  41.],\n",
       "         [ 64.,  63.,  42.],\n",
       "         [ 62.,  61.,  40.],\n",
       "         ...,\n",
       "         [ 60.,  58.,  43.],\n",
       "         [ 60.,  58.,  43.],\n",
       "         [ 59.,  57.,  42.]],\n",
       "\n",
       "        [[ 61.,  60.,  39.],\n",
       "         [ 62.,  61.,  40.],\n",
       "         [ 60.,  59.,  38.],\n",
       "         ...,\n",
       "         [ 59.,  57.,  42.],\n",
       "         [ 59.,  57.,  42.],\n",
       "         [ 58.,  56.,  41.]]],\n",
       "\n",
       "\n",
       "       ...,\n",
       "\n",
       "\n",
       "       [[[104., 113., 110.],\n",
       "         [100., 109., 104.],\n",
       "         [ 72.,  78.,  74.],\n",
       "         ...,\n",
       "         [ 56.,  57.,  51.],\n",
       "         [ 58.,  59.,  53.],\n",
       "         [ 59.,  60.,  54.]],\n",
       "\n",
       "        [[ 71.,  80.,  77.],\n",
       "         [125., 134., 131.],\n",
       "         [128., 134., 130.],\n",
       "         ...,\n",
       "         [  2.,   3.,   0.],\n",
       "         [  0.,   1.,   0.],\n",
       "         [ 47.,  48.,  43.]],\n",
       "\n",
       "        [[ 31.,  40.,  37.],\n",
       "         [116., 125., 122.],\n",
       "         [119., 125., 121.],\n",
       "         ...,\n",
       "         [ 33.,  34.,  29.],\n",
       "         [ 26.,  27.,  22.],\n",
       "         [ 59.,  60.,  55.]],\n",
       "\n",
       "        ...,\n",
       "\n",
       "        [[ 52.,  51.,  31.],\n",
       "         [ 53.,  52.,  32.],\n",
       "         [ 54.,  53.,  33.],\n",
       "         ...,\n",
       "         [ 53.,  48.,  16.],\n",
       "         [ 54.,  49.,  17.],\n",
       "         [ 55.,  50.,  18.]],\n",
       "\n",
       "        [[ 53.,  52.,  32.],\n",
       "         [ 53.,  52.,  32.],\n",
       "         [ 54.,  53.,  33.],\n",
       "         ...,\n",
       "         [ 53.,  48.,  16.],\n",
       "         [ 54.,  49.,  17.],\n",
       "         [ 56.,  51.,  19.]],\n",
       "\n",
       "        [[ 55.,  54.,  34.],\n",
       "         [ 54.,  53.,  33.],\n",
       "         [ 54.,  53.,  33.],\n",
       "         ...,\n",
       "         [ 54.,  49.,  17.],\n",
       "         [ 55.,  50.,  18.],\n",
       "         [ 57.,  52.,  20.]]],\n",
       "\n",
       "\n",
       "       [[[ 60.,  60.,  52.],\n",
       "         [ 53.,  53.,  45.],\n",
       "         [ 92.,  92.,  84.],\n",
       "         ...,\n",
       "         [ 62.,  62.,  28.],\n",
       "         [ 65.,  64.,  34.],\n",
       "         [ 30.,  28.,   3.]],\n",
       "\n",
       "        [[103., 103.,  95.],\n",
       "         [ 57.,  57.,  49.],\n",
       "         [ 59.,  59.,  51.],\n",
       "         ...,\n",
       "         [ 68.,  67.,  36.],\n",
       "         [ 48.,  47.,  17.],\n",
       "         [ 40.,  39.,  11.]],\n",
       "\n",
       "        [[ 94.,  94.,  86.],\n",
       "         [ 56.,  56.,  48.],\n",
       "         [ 51.,  51.,  43.],\n",
       "         ...,\n",
       "         [ 75.,  74.,  43.],\n",
       "         [ 51.,  50.,  20.],\n",
       "         [ 44.,  43.,  15.]],\n",
       "\n",
       "        ...,\n",
       "\n",
       "        [[ 51.,  49.,  24.],\n",
       "         [ 51.,  49.,  24.],\n",
       "         [ 51.,  49.,  24.],\n",
       "         ...,\n",
       "         [ 53.,  48.,  16.],\n",
       "         [ 53.,  48.,  16.],\n",
       "         [ 53.,  48.,  16.]],\n",
       "\n",
       "        [[ 51.,  49.,  24.],\n",
       "         [ 51.,  49.,  24.],\n",
       "         [ 51.,  49.,  24.],\n",
       "         ...,\n",
       "         [ 53.,  48.,  16.],\n",
       "         [ 53.,  48.,  16.],\n",
       "         [ 53.,  48.,  16.]],\n",
       "\n",
       "        [[ 51.,  49.,  24.],\n",
       "         [ 51.,  49.,  24.],\n",
       "         [ 51.,  49.,  24.],\n",
       "         ...,\n",
       "         [ 53.,  48.,  16.],\n",
       "         [ 53.,  48.,  16.],\n",
       "         [ 53.,  48.,  16.]]],\n",
       "\n",
       "\n",
       "       [[[ 69.,  64.,  60.],\n",
       "         [ 96.,  91.,  85.],\n",
       "         [ 94.,  90.,  81.],\n",
       "         ...,\n",
       "         [ 54.,  51.,  46.],\n",
       "         [ 58.,  55.,  50.],\n",
       "         [ 87.,  84.,  79.]],\n",
       "\n",
       "        [[ 65.,  60.,  56.],\n",
       "         [ 91.,  86.,  80.],\n",
       "         [ 88.,  84.,  75.],\n",
       "         ...,\n",
       "         [ 55.,  52.,  47.],\n",
       "         [ 62.,  59.,  54.],\n",
       "         [ 89.,  86.,  81.]],\n",
       "\n",
       "        [[ 64.,  59.,  55.],\n",
       "         [ 93.,  88.,  82.],\n",
       "         [ 90.,  86.,  77.],\n",
       "         ...,\n",
       "         [ 56.,  53.,  48.],\n",
       "         [ 66.,  63.,  58.],\n",
       "         [ 89.,  86.,  81.]],\n",
       "\n",
       "        ...,\n",
       "\n",
       "        [[ 54.,  50.,  15.],\n",
       "         [ 54.,  50.,  15.],\n",
       "         [ 54.,  49.,  17.],\n",
       "         ...,\n",
       "         [ 59.,  54.,  25.],\n",
       "         [ 59.,  53.,  27.],\n",
       "         [ 60.,  54.,  28.]],\n",
       "\n",
       "        [[ 54.,  50.,  15.],\n",
       "         [ 54.,  50.,  15.],\n",
       "         [ 54.,  50.,  15.],\n",
       "         ...,\n",
       "         [ 58.,  53.,  24.],\n",
       "         [ 59.,  53.,  27.],\n",
       "         [ 61.,  55.,  29.]],\n",
       "\n",
       "        [[ 54.,  50.,  13.],\n",
       "         [ 54.,  50.,  13.],\n",
       "         [ 54.,  50.,  15.],\n",
       "         ...,\n",
       "         [ 57.,  52.,  23.],\n",
       "         [ 56.,  50.,  24.],\n",
       "         [ 56.,  50.,  24.]]]])"
      ]
     },
     "execution_count": 11,
     "metadata": {},
     "output_type": "execute_result"
    }
   ],
   "source": [
    "load_img(no_of_images,img_h,img_w)"
   ]
  },
  {
   "cell_type": "code",
   "execution_count": 12,
   "metadata": {},
   "outputs": [
    {
     "data": {
      "text/plain": [
       "array([[[ 41.,  40.,  38.],\n",
       "        [ 62.,  61.,  59.],\n",
       "        [ 61.,  60.,  58.],\n",
       "        ...,\n",
       "        [ 93.,  90.,  81.],\n",
       "        [ 86.,  84.,  72.],\n",
       "        [ 59.,  55.,  43.]],\n",
       "\n",
       "       [[ 43.,  42.,  40.],\n",
       "        [ 59.,  58.,  56.],\n",
       "        [ 60.,  59.,  57.],\n",
       "        ...,\n",
       "        [116., 113., 104.],\n",
       "        [108., 106.,  94.],\n",
       "        [ 94.,  90.,  78.]],\n",
       "\n",
       "       [[ 45.,  44.,  42.],\n",
       "        [ 57.,  56.,  54.],\n",
       "        [ 59.,  58.,  56.],\n",
       "        ...,\n",
       "        [124., 124., 116.],\n",
       "        [118., 115., 106.],\n",
       "        [107., 105.,  93.]],\n",
       "\n",
       "       ...,\n",
       "\n",
       "       [[ 53.,  48.,  16.],\n",
       "        [ 53.,  48.,  16.],\n",
       "        [ 53.,  48.,  16.],\n",
       "        ...,\n",
       "        [ 57.,  58.,  44.],\n",
       "        [ 57.,  58.,  44.],\n",
       "        [ 56.,  57.,  43.]],\n",
       "\n",
       "       [[ 53.,  48.,  16.],\n",
       "        [ 53.,  48.,  16.],\n",
       "        [ 53.,  48.,  16.],\n",
       "        ...,\n",
       "        [ 57.,  58.,  44.],\n",
       "        [ 57.,  58.,  44.],\n",
       "        [ 57.,  58.,  44.]],\n",
       "\n",
       "       [[ 53.,  48.,  16.],\n",
       "        [ 53.,  48.,  16.],\n",
       "        [ 53.,  48.,  16.],\n",
       "        ...,\n",
       "        [ 58.,  59.,  45.],\n",
       "        [ 58.,  59.,  45.],\n",
       "        [ 60.,  61.,  47.]]])"
      ]
     },
     "execution_count": 12,
     "metadata": {},
     "output_type": "execute_result"
    }
   ],
   "source": [
    "img[0]"
   ]
  },
  {
   "cell_type": "code",
   "execution_count": 13,
   "metadata": {},
   "outputs": [],
   "source": [
    "x_train,x_test,y_train,y_test=t_split(img,lab_data,shuffle=True,test_size=0.2)"
   ]
  },
  {
   "cell_type": "code",
   "execution_count": 14,
   "metadata": {},
   "outputs": [
    {
     "data": {
      "text/plain": [
       "(8000, 150, 150, 3)"
      ]
     },
     "execution_count": 14,
     "metadata": {},
     "output_type": "execute_result"
    }
   ],
   "source": [
    "x_train.shape"
   ]
  },
  {
   "cell_type": "code",
   "execution_count": 15,
   "metadata": {},
   "outputs": [],
   "source": [
    "x_train_norm=x_train/255\n",
    "x_test_norm=x_test/255"
   ]
  },
  {
   "cell_type": "code",
   "execution_count": 17,
   "metadata": {},
   "outputs": [],
   "source": [
    "x_train_norm=x_train_norm.astype('float32')\n",
    "x_train_norm=tf.convert_to_tensor(x_train_norm)\n",
    "x_test_norm=x_test_norm.astype('float32')\n",
    "x_test_norm=tf.convert_to_tensor(x_test_norm)\n",
    "y_train=y_train.astype('float32')\n",
    "y_test=y_test.astype('float32')"
   ]
  },
  {
   "cell_type": "code",
   "execution_count": 21,
   "metadata": {},
   "outputs": [],
   "source": [
    "def model():\n",
    "    built=tf.keras.models.Sequential([\n",
    "        tf.keras.layers.Conv2D(32,(3,3),activation='relu',input_shape=(150,150,3)),\n",
    "        tf.keras.layers.MaxPool2D(),\n",
    "        tf.keras.layers.Conv2D(64,(3,3),activation='relu'),\n",
    "        tf.keras.layers.MaxPool2D(),\n",
    "        tf.keras.layers.Conv2D(64,(3,3),activation='relu')\n",
    "    ])\n",
    "    built.compile(optimizer='adam',loss='mean_squared_error',metrics=['accuracy','mean_squared_error'])\n",
    "    return built"
   ]
  },
  {
   "cell_type": "code",
   "execution_count": 22,
   "metadata": {},
   "outputs": [],
   "source": [
    "model_built=model()"
   ]
  },
  {
   "cell_type": "code",
   "execution_count": 25,
   "metadata": {},
   "outputs": [],
   "source": [
    "model_built.add(tf.keras.layers.Flatten())\n",
    "model_built.add(tf.keras.layers.Dense(64,activation='relu'))\n",
    "model_built.add(tf.keras.layers.Dense(1,activation='relu'))"
   ]
  },
  {
   "cell_type": "code",
   "execution_count": 28,
   "metadata": {},
   "outputs": [],
   "source": [
    "Early_stop=keras.callbacks.EarlyStopping(\n",
    "    monitor='val_loss',\n",
    "    min_delta=1e-2,\n",
    "    patience=3,verbose=1),\n",
    "Checkpt=keras.callbacks.ModelCheckpoint(\n",
    "    filepath=r'c:/Users/Victor/Desktop/Project_404/Model/mymodel_{epoch}.h5',\n",
    "    save_best_only=True,\n",
    "    monitor='val_loss',\n",
    "    verbose=1)\n",
    "reduce_lr = keras.callbacks.ReduceLROnPlateau(monitor='val_loss',\n",
    "                                              factor=0.2,\n",
    "                                              patience=5, min_lr=0.001)\n",
    "Callbacks=[Early_stop,Checkpt,reduce_lr]"
   ]
  },
  {
   "cell_type": "code",
   "execution_count": 32,
   "metadata": {},
   "outputs": [],
   "source": [
    "csv_logger = keras.callbacks.CSVLogger('C:/Users/Victor/Desktop/Project-404/Model/training.log')\n",
    "Callbacks.append([csv_logger])\n",
    "#tensorbrd=keras.callbacks.tensorboard_v1.TensorBoard(log_dir='C:/Users/Victor/Desktop/Project-404/Model/', histogram_freq=0, batch_size=32, write_graph=True)\n",
    "#Callbacks.append(tensorbrd)"
   ]
  },
  {
   "cell_type": "code",
   "execution_count": 34,
   "metadata": {},
   "outputs": [
    {
     "ename": "ResourceExhaustedError",
     "evalue": "OOM when allocating tensor with shape[6400,150,150,3] and type float on /job:localhost/replica:0/task:0/device:CPU:0 by allocator cpu [Op:StridedSlice] name: strided_slice/",
     "output_type": "error",
     "traceback": [
      "\u001b[1;31m---------------------------------------------------------------------------\u001b[0m",
      "\u001b[1;31mResourceExhaustedError\u001b[0m                    Traceback (most recent call last)",
      "\u001b[1;32m<ipython-input-34-27ccfb6ff6ba>\u001b[0m in \u001b[0;36m<module>\u001b[1;34m\u001b[0m\n\u001b[1;32m----> 1\u001b[1;33m \u001b[0mmodel_built\u001b[0m\u001b[1;33m.\u001b[0m\u001b[0mfit\u001b[0m\u001b[1;33m(\u001b[0m\u001b[0mx_train_norm\u001b[0m\u001b[1;33m,\u001b[0m\u001b[0my_train\u001b[0m\u001b[1;33m,\u001b[0m\u001b[0mepochs\u001b[0m\u001b[1;33m=\u001b[0m\u001b[1;36m5\u001b[0m\u001b[1;33m,\u001b[0m\u001b[0mvalidation_split\u001b[0m\u001b[1;33m=\u001b[0m\u001b[1;36m0.2\u001b[0m\u001b[1;33m,\u001b[0m\u001b[0mverbose\u001b[0m\u001b[1;33m=\u001b[0m\u001b[1;36m1\u001b[0m\u001b[1;33m,\u001b[0m\u001b[0mbatch_size\u001b[0m\u001b[1;33m=\u001b[0m\u001b[1;36m20\u001b[0m\u001b[1;33m,\u001b[0m \u001b[0mcallbacks\u001b[0m\u001b[1;33m=\u001b[0m\u001b[0mCallbacks\u001b[0m\u001b[1;33m)\u001b[0m\u001b[1;33m\u001b[0m\u001b[1;33m\u001b[0m\u001b[0m\n\u001b[0m",
      "\u001b[1;32m~\\Anaconda3\\lib\\site-packages\\tensorflow_core\\python\\keras\\engine\\training.py\u001b[0m in \u001b[0;36mfit\u001b[1;34m(self, x, y, batch_size, epochs, verbose, callbacks, validation_split, validation_data, shuffle, class_weight, sample_weight, initial_epoch, steps_per_epoch, validation_steps, validation_freq, max_queue_size, workers, use_multiprocessing, **kwargs)\u001b[0m\n\u001b[0;32m    726\u001b[0m         \u001b[0mmax_queue_size\u001b[0m\u001b[1;33m=\u001b[0m\u001b[0mmax_queue_size\u001b[0m\u001b[1;33m,\u001b[0m\u001b[1;33m\u001b[0m\u001b[1;33m\u001b[0m\u001b[0m\n\u001b[0;32m    727\u001b[0m         \u001b[0mworkers\u001b[0m\u001b[1;33m=\u001b[0m\u001b[0mworkers\u001b[0m\u001b[1;33m,\u001b[0m\u001b[1;33m\u001b[0m\u001b[1;33m\u001b[0m\u001b[0m\n\u001b[1;32m--> 728\u001b[1;33m         use_multiprocessing=use_multiprocessing)\n\u001b[0m\u001b[0;32m    729\u001b[0m \u001b[1;33m\u001b[0m\u001b[0m\n\u001b[0;32m    730\u001b[0m   def evaluate(self,\n",
      "\u001b[1;32m~\\Anaconda3\\lib\\site-packages\\tensorflow_core\\python\\keras\\engine\\training_v2.py\u001b[0m in \u001b[0;36mfit\u001b[1;34m(self, model, x, y, batch_size, epochs, verbose, callbacks, validation_split, validation_data, shuffle, class_weight, sample_weight, initial_epoch, steps_per_epoch, validation_steps, validation_freq, **kwargs)\u001b[0m\n\u001b[0;32m    222\u001b[0m           \u001b[0mvalidation_data\u001b[0m\u001b[1;33m=\u001b[0m\u001b[0mvalidation_data\u001b[0m\u001b[1;33m,\u001b[0m\u001b[1;33m\u001b[0m\u001b[1;33m\u001b[0m\u001b[0m\n\u001b[0;32m    223\u001b[0m           \u001b[0mvalidation_steps\u001b[0m\u001b[1;33m=\u001b[0m\u001b[0mvalidation_steps\u001b[0m\u001b[1;33m,\u001b[0m\u001b[1;33m\u001b[0m\u001b[1;33m\u001b[0m\u001b[0m\n\u001b[1;32m--> 224\u001b[1;33m           distribution_strategy=strategy)\n\u001b[0m\u001b[0;32m    225\u001b[0m \u001b[1;33m\u001b[0m\u001b[0m\n\u001b[0;32m    226\u001b[0m       \u001b[0mtotal_samples\u001b[0m \u001b[1;33m=\u001b[0m \u001b[0m_get_total_number_of_samples\u001b[0m\u001b[1;33m(\u001b[0m\u001b[0mtraining_data_adapter\u001b[0m\u001b[1;33m)\u001b[0m\u001b[1;33m\u001b[0m\u001b[1;33m\u001b[0m\u001b[0m\n",
      "\u001b[1;32m~\\Anaconda3\\lib\\site-packages\\tensorflow_core\\python\\keras\\engine\\training_v2.py\u001b[0m in \u001b[0;36m_process_training_inputs\u001b[1;34m(model, x, y, batch_size, epochs, sample_weights, class_weights, steps_per_epoch, validation_split, validation_data, validation_steps, shuffle, distribution_strategy, max_queue_size, workers, use_multiprocessing)\u001b[0m\n\u001b[0;32m    518\u001b[0m      \u001b[0mval_x\u001b[0m\u001b[1;33m,\u001b[0m \u001b[0mval_y\u001b[0m\u001b[1;33m,\u001b[0m\u001b[1;33m\u001b[0m\u001b[1;33m\u001b[0m\u001b[0m\n\u001b[0;32m    519\u001b[0m      \u001b[0mval_sample_weights\u001b[0m\u001b[1;33m)\u001b[0m \u001b[1;33m=\u001b[0m \u001b[0mtraining_utils\u001b[0m\u001b[1;33m.\u001b[0m\u001b[0msplit_training_and_validation_data\u001b[0m\u001b[1;33m(\u001b[0m\u001b[1;33m\u001b[0m\u001b[1;33m\u001b[0m\u001b[0m\n\u001b[1;32m--> 520\u001b[1;33m          x, y, sample_weights, validation_split)\n\u001b[0m\u001b[0;32m    521\u001b[0m     train_adapter = adapter_cls(\n\u001b[0;32m    522\u001b[0m         \u001b[0mx\u001b[0m\u001b[1;33m,\u001b[0m\u001b[1;33m\u001b[0m\u001b[1;33m\u001b[0m\u001b[0m\n",
      "\u001b[1;32m~\\Anaconda3\\lib\\site-packages\\tensorflow_core\\python\\keras\\engine\\training_utils.py\u001b[0m in \u001b[0;36msplit_training_and_validation_data\u001b[1;34m(x, y, sample_weights, validation_split)\u001b[0m\n\u001b[0;32m   1869\u001b[0m   \u001b[1;32melse\u001b[0m\u001b[1;33m:\u001b[0m\u001b[1;33m\u001b[0m\u001b[1;33m\u001b[0m\u001b[0m\n\u001b[0;32m   1870\u001b[0m     \u001b[0msplit_at\u001b[0m \u001b[1;33m=\u001b[0m \u001b[0mint\u001b[0m\u001b[1;33m(\u001b[0m\u001b[0mlen\u001b[0m\u001b[1;33m(\u001b[0m\u001b[0mx\u001b[0m\u001b[1;33m[\u001b[0m\u001b[1;36m0\u001b[0m\u001b[1;33m]\u001b[0m\u001b[1;33m)\u001b[0m \u001b[1;33m*\u001b[0m \u001b[1;33m(\u001b[0m\u001b[1;36m1.\u001b[0m \u001b[1;33m-\u001b[0m \u001b[0mvalidation_split\u001b[0m\u001b[1;33m)\u001b[0m\u001b[1;33m)\u001b[0m\u001b[1;33m\u001b[0m\u001b[1;33m\u001b[0m\u001b[0m\n\u001b[1;32m-> 1871\u001b[1;33m   x, val_x = (generic_utils.slice_arrays(x, 0, split_at),\n\u001b[0m\u001b[0;32m   1872\u001b[0m               generic_utils.slice_arrays(x, split_at))\n\u001b[0;32m   1873\u001b[0m   y, val_y = (generic_utils.slice_arrays(y, 0, split_at),\n",
      "\u001b[1;32m~\\Anaconda3\\lib\\site-packages\\tensorflow_core\\python\\keras\\utils\\generic_utils.py\u001b[0m in \u001b[0;36mslice_arrays\u001b[1;34m(arrays, start, stop)\u001b[0m\n\u001b[0;32m    530\u001b[0m     return [\n\u001b[0;32m    531\u001b[0m         \u001b[1;32mNone\u001b[0m \u001b[1;32mif\u001b[0m \u001b[0mx\u001b[0m \u001b[1;32mis\u001b[0m \u001b[1;32mNone\u001b[0m \u001b[1;32melse\u001b[0m\u001b[1;33m\u001b[0m\u001b[1;33m\u001b[0m\u001b[0m\n\u001b[1;32m--> 532\u001b[1;33m         \u001b[1;32mNone\u001b[0m \u001b[1;32mif\u001b[0m \u001b[1;32mnot\u001b[0m \u001b[0mhasattr\u001b[0m\u001b[1;33m(\u001b[0m\u001b[0mx\u001b[0m\u001b[1;33m,\u001b[0m \u001b[1;34m'__getitem__'\u001b[0m\u001b[1;33m)\u001b[0m \u001b[1;32melse\u001b[0m \u001b[0mx\u001b[0m\u001b[1;33m[\u001b[0m\u001b[0mstart\u001b[0m\u001b[1;33m:\u001b[0m\u001b[0mstop\u001b[0m\u001b[1;33m]\u001b[0m \u001b[1;32mfor\u001b[0m \u001b[0mx\u001b[0m \u001b[1;32min\u001b[0m \u001b[0marrays\u001b[0m\u001b[1;33m\u001b[0m\u001b[1;33m\u001b[0m\u001b[0m\n\u001b[0m\u001b[0;32m    533\u001b[0m     ]\n\u001b[0;32m    534\u001b[0m   \u001b[1;32melse\u001b[0m\u001b[1;33m:\u001b[0m\u001b[1;33m\u001b[0m\u001b[1;33m\u001b[0m\u001b[0m\n",
      "\u001b[1;32m~\\Anaconda3\\lib\\site-packages\\tensorflow_core\\python\\keras\\utils\\generic_utils.py\u001b[0m in \u001b[0;36m<listcomp>\u001b[1;34m(.0)\u001b[0m\n\u001b[0;32m    530\u001b[0m     return [\n\u001b[0;32m    531\u001b[0m         \u001b[1;32mNone\u001b[0m \u001b[1;32mif\u001b[0m \u001b[0mx\u001b[0m \u001b[1;32mis\u001b[0m \u001b[1;32mNone\u001b[0m \u001b[1;32melse\u001b[0m\u001b[1;33m\u001b[0m\u001b[1;33m\u001b[0m\u001b[0m\n\u001b[1;32m--> 532\u001b[1;33m         \u001b[1;32mNone\u001b[0m \u001b[1;32mif\u001b[0m \u001b[1;32mnot\u001b[0m \u001b[0mhasattr\u001b[0m\u001b[1;33m(\u001b[0m\u001b[0mx\u001b[0m\u001b[1;33m,\u001b[0m \u001b[1;34m'__getitem__'\u001b[0m\u001b[1;33m)\u001b[0m \u001b[1;32melse\u001b[0m \u001b[0mx\u001b[0m\u001b[1;33m[\u001b[0m\u001b[0mstart\u001b[0m\u001b[1;33m:\u001b[0m\u001b[0mstop\u001b[0m\u001b[1;33m]\u001b[0m \u001b[1;32mfor\u001b[0m \u001b[0mx\u001b[0m \u001b[1;32min\u001b[0m \u001b[0marrays\u001b[0m\u001b[1;33m\u001b[0m\u001b[1;33m\u001b[0m\u001b[0m\n\u001b[0m\u001b[0;32m    533\u001b[0m     ]\n\u001b[0;32m    534\u001b[0m   \u001b[1;32melse\u001b[0m\u001b[1;33m:\u001b[0m\u001b[1;33m\u001b[0m\u001b[1;33m\u001b[0m\u001b[0m\n",
      "\u001b[1;32m~\\Anaconda3\\lib\\site-packages\\tensorflow_core\\python\\ops\\array_ops.py\u001b[0m in \u001b[0;36m_slice_helper\u001b[1;34m(tensor, slice_spec, var)\u001b[0m\n\u001b[0;32m    811\u001b[0m         \u001b[0mellipsis_mask\u001b[0m\u001b[1;33m=\u001b[0m\u001b[0mellipsis_mask\u001b[0m\u001b[1;33m,\u001b[0m\u001b[1;33m\u001b[0m\u001b[1;33m\u001b[0m\u001b[0m\n\u001b[0;32m    812\u001b[0m         \u001b[0mvar\u001b[0m\u001b[1;33m=\u001b[0m\u001b[0mvar\u001b[0m\u001b[1;33m,\u001b[0m\u001b[1;33m\u001b[0m\u001b[1;33m\u001b[0m\u001b[0m\n\u001b[1;32m--> 813\u001b[1;33m         name=name)\n\u001b[0m\u001b[0;32m    814\u001b[0m \u001b[1;33m\u001b[0m\u001b[0m\n\u001b[0;32m    815\u001b[0m \u001b[1;33m\u001b[0m\u001b[0m\n",
      "\u001b[1;32m~\\Anaconda3\\lib\\site-packages\\tensorflow_core\\python\\ops\\array_ops.py\u001b[0m in \u001b[0;36mstrided_slice\u001b[1;34m(input_, begin, end, strides, begin_mask, end_mask, ellipsis_mask, new_axis_mask, shrink_axis_mask, var, name)\u001b[0m\n\u001b[0;32m    977\u001b[0m       \u001b[0mellipsis_mask\u001b[0m\u001b[1;33m=\u001b[0m\u001b[0mellipsis_mask\u001b[0m\u001b[1;33m,\u001b[0m\u001b[1;33m\u001b[0m\u001b[1;33m\u001b[0m\u001b[0m\n\u001b[0;32m    978\u001b[0m       \u001b[0mnew_axis_mask\u001b[0m\u001b[1;33m=\u001b[0m\u001b[0mnew_axis_mask\u001b[0m\u001b[1;33m,\u001b[0m\u001b[1;33m\u001b[0m\u001b[1;33m\u001b[0m\u001b[0m\n\u001b[1;32m--> 979\u001b[1;33m       shrink_axis_mask=shrink_axis_mask)\n\u001b[0m\u001b[0;32m    980\u001b[0m \u001b[1;33m\u001b[0m\u001b[0m\n\u001b[0;32m    981\u001b[0m   \u001b[0mparent_name\u001b[0m \u001b[1;33m=\u001b[0m \u001b[0mname\u001b[0m\u001b[1;33m\u001b[0m\u001b[1;33m\u001b[0m\u001b[0m\n",
      "\u001b[1;32m~\\Anaconda3\\lib\\site-packages\\tensorflow_core\\python\\ops\\gen_array_ops.py\u001b[0m in \u001b[0;36mstrided_slice\u001b[1;34m(input, begin, end, strides, begin_mask, end_mask, ellipsis_mask, new_axis_mask, shrink_axis_mask, name)\u001b[0m\n\u001b[0;32m  10370\u001b[0m       \u001b[1;32melse\u001b[0m\u001b[1;33m:\u001b[0m\u001b[1;33m\u001b[0m\u001b[1;33m\u001b[0m\u001b[0m\n\u001b[0;32m  10371\u001b[0m         \u001b[0mmessage\u001b[0m \u001b[1;33m=\u001b[0m \u001b[0me\u001b[0m\u001b[1;33m.\u001b[0m\u001b[0mmessage\u001b[0m\u001b[1;33m\u001b[0m\u001b[1;33m\u001b[0m\u001b[0m\n\u001b[1;32m> 10372\u001b[1;33m       \u001b[0m_six\u001b[0m\u001b[1;33m.\u001b[0m\u001b[0mraise_from\u001b[0m\u001b[1;33m(\u001b[0m\u001b[0m_core\u001b[0m\u001b[1;33m.\u001b[0m\u001b[0m_status_to_exception\u001b[0m\u001b[1;33m(\u001b[0m\u001b[0me\u001b[0m\u001b[1;33m.\u001b[0m\u001b[0mcode\u001b[0m\u001b[1;33m,\u001b[0m \u001b[0mmessage\u001b[0m\u001b[1;33m)\u001b[0m\u001b[1;33m,\u001b[0m \u001b[1;32mNone\u001b[0m\u001b[1;33m)\u001b[0m\u001b[1;33m\u001b[0m\u001b[1;33m\u001b[0m\u001b[0m\n\u001b[0m\u001b[0;32m  10373\u001b[0m   \u001b[1;31m# Add nodes to the TensorFlow graph.\u001b[0m\u001b[1;33m\u001b[0m\u001b[1;33m\u001b[0m\u001b[1;33m\u001b[0m\u001b[0m\n\u001b[0;32m  10374\u001b[0m   \u001b[1;32mif\u001b[0m \u001b[0mbegin_mask\u001b[0m \u001b[1;32mis\u001b[0m \u001b[1;32mNone\u001b[0m\u001b[1;33m:\u001b[0m\u001b[1;33m\u001b[0m\u001b[1;33m\u001b[0m\u001b[0m\n",
      "\u001b[1;32m~\\Anaconda3\\lib\\site-packages\\six.py\u001b[0m in \u001b[0;36mraise_from\u001b[1;34m(value, from_value)\u001b[0m\n",
      "\u001b[1;31mResourceExhaustedError\u001b[0m: OOM when allocating tensor with shape[6400,150,150,3] and type float on /job:localhost/replica:0/task:0/device:CPU:0 by allocator cpu [Op:StridedSlice] name: strided_slice/"
     ]
    }
   ],
   "source": [
    "model_built.fit(x_train_norm,y_train,epochs=5,validation_split=0.2,verbose=1,batch_size=20,callbacks=Callbacks)"
   ]
  },
  {
   "cell_type": "code",
   "execution_count": null,
   "metadata": {},
   "outputs": [],
   "source": [
    "predictions=model_built.predict(y_train)"
   ]
  },
  {
   "cell_type": "code",
   "execution_count": null,
   "metadata": {},
   "outputs": [],
   "source": [
    "loss,acc=model_built.evaluate(predictions,y_test,batch_size=32,metric=['mean_squared_error','accuracy'])"
   ]
  },
  {
   "cell_type": "code",
   "execution_count": null,
   "metadata": {},
   "outputs": [],
   "source": []
  },
  {
   "cell_type": "code",
   "execution_count": null,
   "metadata": {},
   "outputs": [],
   "source": []
  }
 ],
 "metadata": {
  "kernelspec": {
   "display_name": "Python 3",
   "language": "python",
   "name": "python3"
  },
  "language_info": {
   "codemirror_mode": {
    "name": "ipython",
    "version": 3
   },
   "file_extension": ".py",
   "mimetype": "text/x-python",
   "name": "python",
   "nbconvert_exporter": "python",
   "pygments_lexer": "ipython3",
   "version": "3.7.5"
  }
 },
 "nbformat": 4,
 "nbformat_minor": 2
}
